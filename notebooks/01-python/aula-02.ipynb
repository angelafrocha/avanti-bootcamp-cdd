{
 "cells": [
  {
   "cell_type": "markdown",
   "metadata": {},
   "source": [
    "# Aula 02 - Revisão de Python"
   ]
  },
  {
   "cell_type": "markdown",
   "metadata": {},
   "source": [
    "Exercício de aquecimento"
   ]
  },
  {
   "cell_type": "markdown",
   "metadata": {},
   "source": [
    "##### Variáveis e Operadores"
   ]
  },
  {
   "cell_type": "markdown",
   "metadata": {},
   "source": [
    "a) Crie um programa que leia dois números inteiros e imprima a soma, subtração, multiplicação e divisão entre eles."
   ]
  },
  {
   "cell_type": "code",
   "execution_count": 4,
   "metadata": {},
   "outputs": [
    {
     "name": "stdout",
     "output_type": "stream",
     "text": [
      "2.0 + 2.0 = 4.0.\n",
      "\n",
      "2.0 - 2.0 = 0.0.\n",
      "\n",
      "2.0 * 2.0 =  4.00.\n",
      "\n",
      "2.0 / 2.0 =  1.00.\n",
      "\n"
     ]
    }
   ],
   "source": [
    "numero1 = float (input (\"Digite o primeiro número: \"))\n",
    "numero2 = float (input (\"Digite o segundo número: \"))\n",
    "\n",
    "soma = numero1 + numero2\n",
    "subtracao = numero1 - numero2\n",
    "multiplicacao = numero1 * numero2\n",
    "divisao = numero1 / numero2\n",
    "\n",
    "print(f\"{numero1} + {numero2} = {soma}.\\n\")\n",
    "print(f\"{numero1} - {numero2} = {subtracao}.\\n\")\n",
    "print(f\"{numero1} * {numero2} = {multiplicacao: .2f}.\\n\")\n",
    "print(f\"{numero1} / {numero2} = {divisao: .2f}.\\n\")\n"
   ]
  },
  {
   "cell_type": "markdown",
   "metadata": {},
   "source": [
    "b) Escreva um programa que calcule a área de um círculo, solucitando o raio do usuário."
   ]
  },
  {
   "cell_type": "code",
   "execution_count": 5,
   "metadata": {},
   "outputs": [
    {
     "name": "stdout",
     "output_type": "stream",
     "text": [
      "A área do círculo com raio 2.0 é: 12.56\n"
     ]
    }
   ],
   "source": [
    "raio = float(input(\"Digite o raio do círculo: \"))\n",
    "\n",
    "area_circulo = 3.14 * (raio **2)\n",
    "\n",
    "print(f\"A área do círculo com raio {raio} é: {area_circulo:.2f}\")"
   ]
  },
  {
   "cell_type": "markdown",
   "metadata": {},
   "source": [
    "##### Estruturas de Seleção e Repetição."
   ]
  },
  {
   "cell_type": "markdown",
   "metadata": {},
   "source": [
    "a) Escreva um programa que solicite a idade do usuário e imprima se ele é menor de idade(menor que 18 anos) ou maior de idade."
   ]
  },
  {
   "cell_type": "code",
   "execution_count": 6,
   "metadata": {},
   "outputs": [
    {
     "name": "stdout",
     "output_type": "stream",
     "text": [
      "É menor de idade.\n"
     ]
    }
   ],
   "source": [
    "idade = int(input(\"Digite a idade: \"))\n",
    "\n",
    "if idade >= 18:\n",
    "    print(\"É maior de idade.\")\n",
    "else:\n",
    "    print(\"É menor de idade.\")        "
   ]
  },
  {
   "cell_type": "markdown",
   "metadata": {},
   "source": [
    "b) crie um programa que peça ao usuário para advinhar um número secreto entre 1 e 100.\n",
    "O programa deve fornecer dicas se o palpite do usuário é maior ou menor que o número secreto até que ele advinhe corretamente."
   ]
  },
  {
   "cell_type": "code",
   "execution_count": 7,
   "metadata": {},
   "outputs": [
    {
     "name": "stdout",
     "output_type": "stream",
     "text": [
      "Você acertou! O número 25 é o número secreto.\n"
     ]
    }
   ],
   "source": [
    "numero_secreto = 25\n",
    "\n",
    "while True:\n",
    "    try:\n",
    "        palpite = int(input(\"Digite o seu palpite: \"))\n",
    "\n",
    "        if palpite == numero_secreto:\n",
    "            print(f\"Você acertou! O número {palpite} é o número secreto.\")\n",
    "            break \n",
    "        elif palpite < numero_secreto:\n",
    "            print(f\"O número secreto é maior do que {palpite}.\")\n",
    "        else:\n",
    "            print(f\"O número secreto é menor do que {palpite}.\")\n",
    "    except ValueError:\n",
    "        print(\"Por favor, digite um número válido.\")\n",
    "\n"
   ]
  },
  {
   "cell_type": "markdown",
   "metadata": {},
   "source": [
    "##### Coleções(listas, tuplas, conjuntos)"
   ]
  },
  {
   "cell_type": "markdown",
   "metadata": {},
   "source": [
    "a) crie um programa que crie uma lista de 5 números inteiros e imprima os elementos dessa lista"
   ]
  },
  {
   "cell_type": "code",
   "execution_count": 8,
   "metadata": {},
   "outputs": [
    {
     "name": "stdout",
     "output_type": "stream",
     "text": [
      "1\n",
      "2\n",
      "3\n",
      "4\n",
      "5\n"
     ]
    }
   ],
   "source": [
    "lista_numeros = [1, 2, 3, 4, 5]\n",
    "\n",
    "for numero in lista_numeros:\n",
    "    print(numero)"
   ]
  },
  {
   "cell_type": "markdown",
   "metadata": {},
   "source": [
    "b) Crie uma tupla com o nome de alguns animais, em seguida, peça para o usuário digitar o nome de um animal e verifique se ele está presente na  tupla."
   ]
  },
  {
   "cell_type": "code",
   "execution_count": 11,
   "metadata": {},
   "outputs": [
    {
     "name": "stdout",
     "output_type": "stream",
     "text": [
      "O animal está presente na Tupla\n"
     ]
    }
   ],
   "source": [
    "animais = (\"coelho, cachorro, dinossauro\")\n",
    "\n",
    "animal_digitado = input(\"Digite o nome de um animal\").lower()\n",
    "\n",
    "if animal_digitado in animais:\n",
    "    print('O animal está presente na Tupla')\n",
    "else:\n",
    "    print('O animal não está presente na tupla')    "
   ]
  },
  {
   "cell_type": "markdown",
   "metadata": {},
   "source": [
    "##### Reutilização de código(Funções e Módulos)"
   ]
  },
  {
   "cell_type": "markdown",
   "metadata": {},
   "source": [
    "a) Escreva uma função que receba o nome de uma pessoa como argumento e imprima uma mensagem de saudação."
   ]
  },
  {
   "cell_type": "code",
   "execution_count": 18,
   "metadata": {},
   "outputs": [],
   "source": [
    "def saudacao(nome):\n",
    "    \n",
    "    print(f\"Olá, {nome}!\")"
   ]
  },
  {
   "cell_type": "code",
   "execution_count": 19,
   "metadata": {},
   "outputs": [
    {
     "name": "stdout",
     "output_type": "stream",
     "text": [
      "Olá, Chuchu!\n"
     ]
    }
   ],
   "source": [
    "#testando a função saudacao\n",
    "\n",
    "nome = input('Digite o nome: ')\n",
    "saudacao(nome)"
   ]
  },
  {
   "cell_type": "markdown",
   "metadata": {},
   "source": [
    "b) Implemente um módulo com uma função que verifica se um número é primo."
   ]
  },
  {
   "cell_type": "code",
   "execution_count": 21,
   "metadata": {},
   "outputs": [
    {
     "data": {
      "text/plain": [
       "False"
      ]
     },
     "execution_count": 21,
     "metadata": {},
     "output_type": "execute_result"
    }
   ],
   "source": [
    "# Criando e testando a função\n",
    "def primo(n):\n",
    "    \n",
    "    if n <= 1:\n",
    "        return False\n",
    "    if n <= 3:\n",
    "        return True\n",
    "    if n % 2 == 0 or n % 3 == 0:\n",
    "        return False\n",
    "    i = 5\n",
    "    while i * i <= n:\n",
    "        if n % i == 0 or n % (i + 2) == 0:\n",
    "            return False\n",
    "        i += 6\n",
    "    return True\n",
    "\n",
    "n= 25\n",
    "primo(n)"
   ]
  },
  {
   "cell_type": "code",
   "execution_count": 22,
   "metadata": {},
   "outputs": [],
   "source": [
    "# Salvando a função num arquivo \n",
    "\n",
    "conteudo = \"\"\"\n",
    "def teste_primo(n):\n",
    "    \n",
    "    if n <= 1:\n",
    "        return False\n",
    "    if n <= 3:\n",
    "        return True\n",
    "    if n % 2 == 0 or n % 3 == 0:\n",
    "        return False\n",
    "    i = 5\n",
    "    while i * i <= n:\n",
    "        if n % i == 0 or n % (i + 2) == 0:\n",
    "            return False\n",
    "        i += 6\n",
    "    return True\n",
    "\"\"\"\n",
    "# Criando o arquivo e salvando o Conteúdo\n",
    "with open('primo.py', 'w') as arquivo:\n",
    "    arquivo.write(conteudo)"
   ]
  },
  {
   "cell_type": "code",
   "execution_count": 24,
   "metadata": {},
   "outputs": [],
   "source": [
    "# importando o módulo\n",
    "import primo as pr"
   ]
  },
  {
   "cell_type": "code",
   "execution_count": 26,
   "metadata": {},
   "outputs": [
    {
     "name": "stdout",
     "output_type": "stream",
     "text": [
      "2 é um número primo!\n"
     ]
    }
   ],
   "source": [
    "# testando a função do módulo primo\n",
    "\n",
    "numero = int(input(\"Digite um número: \"))\n",
    "if pr.teste_primo(numero):\n",
    "    print(f\"{numero} é um número primo!\")\n",
    "else:\n",
    "    print(f\"{numero} não é um número primo.\")"
   ]
  }
 ],
 "metadata": {
  "kernelspec": {
   "display_name": "Python 3",
   "language": "python",
   "name": "python3"
  },
  "language_info": {
   "codemirror_mode": {
    "name": "ipython",
    "version": 3
   },
   "file_extension": ".py",
   "mimetype": "text/x-python",
   "name": "python",
   "nbconvert_exporter": "python",
   "pygments_lexer": "ipython3",
   "version": "3.11.5"
  },
  "orig_nbformat": 4
 },
 "nbformat": 4,
 "nbformat_minor": 2
}
